{
 "cells": [
  {
   "cell_type": "markdown",
   "id": "09de81cb-6b3a-4791-9fe1-196144f747b9",
   "metadata": {},
   "source": [
    "### Model Development Notebook"
   ]
  },
  {
   "cell_type": "markdown",
   "id": "7102a083-d407-4867-a955-fd5de28c0ce8",
   "metadata": {},
   "source": [
    "Model development would ideally be performed in the Snowflake DW. However, this notebook presents a quick alternative for that purpose."
   ]
  },
  {
   "cell_type": "code",
   "execution_count": 3,
   "id": "26f72b24-b35f-410a-a553-50b1f5b7ecde",
   "metadata": {
    "jupyter": {
     "source_hidden": true
    }
   },
   "outputs": [
    {
     "name": "stdout",
     "output_type": "stream",
     "text": [
      "Helper function `run_query` is defined.\n"
     ]
    },
    {
     "data": {
      "application/vnd.jupyter.widget-view+json": {
       "model_id": "91a94d3a5126431d9ea04c746fafd6a2",
       "version_major": 2,
       "version_minor": 0
      },
      "text/plain": [
       "VBox(children=(HBox(children=(Text(value='dim_calendar', description='Model:', layout=Layout(margin='0 10px 0 …"
      ]
     },
     "metadata": {},
     "output_type": "display_data"
    }
   ],
   "source": [
    "import duckdb\n",
    "import pandas as pd\n",
    "from pathlib import Path\n",
    "import ipywidgets as widgets\n",
    "from IPython.display import display, Markdown\n",
    "\n",
    "# Allow full column display\n",
    "pd.set_option('display.max_columns', None)\n",
    "\n",
    "# Helper to run DuckDB query\n",
    "def run_query(sql_query: str) -> pd.DataFrame:\n",
    "    db_path = Path('../data_lake/dbt.duckdb')\n",
    "    try:\n",
    "        with duckdb.connect(database=str(db_path), read_only=True) as con:\n",
    "            return con.execute(sql_query).df()\n",
    "    except Exception as e:\n",
    "        print(f\"An error occurred: {e}\")\n",
    "        return pd.DataFrame()\n",
    "\n",
    "print(\"Helper function `run_query` is defined.\")\n",
    "\n",
    "# Input and button\n",
    "model_input = widgets.Text(\n",
    "    value='dim_calendar',\n",
    "    description='Model:',\n",
    "    style={'description_width': '80px'},\n",
    "    layout=widgets.Layout(width='300px', margin='0 10px 0 0')\n",
    ")\n",
    "\n",
    "run_button = widgets.Button(\n",
    "    description='Load Model',\n",
    "    button_style='primary',\n",
    "    layout=widgets.Layout(width='120px', height='35px')\n",
    ")\n",
    "\n",
    "# Outputs\n",
    "model_output = widgets.Output(layout=widgets.Layout(width='700px'))  # fixed width\n",
    "tables_output = widgets.Output(layout=widgets.Layout(width='320px'))  # fixed width\n",
    "\n",
    "# Preload table list\n",
    "with tables_output:\n",
    "    display(Markdown(\"### Available Tables/Models in `main` schema\"))\n",
    "    display(run_query(\"SHOW TABLES\"))\n",
    "\n",
    "# Button callback\n",
    "def on_run_clicked(b):\n",
    "    with model_output:\n",
    "        model_output.clear_output()\n",
    "        model_name = model_input.value\n",
    "\n",
    "        display(Markdown(f\"<h3 style='color:#5C2D91;'>Loading Model: <code style='font-size: 0.8em; background-color:#eee;'>{model_name}</code></h3>\"))\n",
    "\n",
    "        transactions_df = run_query(f\"SELECT * FROM main.{model_name}\")\n",
    "\n",
    "        display(Markdown(\"#### Schema (Data Types)\"))\n",
    "        schema_df = pd.DataFrame({\n",
    "            'Column': transactions_df.columns,\n",
    "            'Non-Null Count': transactions_df.notnull().sum().values,\n",
    "            'Dtype': transactions_df.dtypes.values\n",
    "        })\n",
    "        display(schema_df)\n",
    "\n",
    "        display(Markdown(\"#### First 5 Rows\"))\n",
    "        display(transactions_df.head())\n",
    "\n",
    "run_button.on_click(on_run_clicked)\n",
    "\n",
    "# UI layout\n",
    "input_row = widgets.HBox([model_input, run_button])\n",
    "\n",
    "content_row = widgets.HBox(\n",
    "    [model_output, tables_output],\n",
    "    layout=widgets.Layout(\n",
    "        justify_content='flex-start',\n",
    "        align_items='flex-start',\n",
    "        gap='10px',  # small gap\n",
    "        width='100%'\n",
    "    )\n",
    ")\n",
    "\n",
    "# Render full UI\n",
    "display(widgets.VBox([input_row, content_row]))\n"
   ]
  },
  {
   "cell_type": "code",
   "execution_count": 2,
   "id": "59e9108d-3582-4b00-8c1a-82cb6eb36944",
   "metadata": {
    "jupyter": {
     "source_hidden": true
    }
   },
   "outputs": [
    {
     "data": {
      "application/vnd.jupyter.widget-view+json": {
       "model_id": "8a21a3831bb4486d81c519c8b7a632e2",
       "version_major": 2,
       "version_minor": 0
      },
      "text/plain": [
       "VBox(children=(Textarea(value='SELECT * FROM main.dim_calendar LIMIT 10', description='SQL:', layout=Layout(he…"
      ]
     },
     "metadata": {},
     "output_type": "display_data"
    }
   ],
   "source": [
    "sql_input = widgets.Textarea(\n",
    "    value=\"\"\"SELECT * FROM main.dim_calendar LIMIT 10\"\"\",\n",
    "    placeholder='Enter your SQL query here...',\n",
    "    description='SQL:',\n",
    "    layout=widgets.Layout(width='1000px', height='250px'),\n",
    "    style={'description_width': '40px'}\n",
    ")\n",
    "\n",
    "# Button to run SQL\n",
    "run_sql_button = widgets.Button(\n",
    "    description='Run SQL',\n",
    "    button_style='success',\n",
    "    layout=widgets.Layout(width='120px', height='40px')\n",
    ")\n",
    "\n",
    "# Output area\n",
    "sql_output = widgets.Output()\n",
    "\n",
    "# Callback function\n",
    "def on_sql_run_clicked(b):\n",
    "    with sql_output:\n",
    "        sql_output.clear_output()\n",
    "        try:\n",
    "            df = run_query(sql_input.value)\n",
    "            display(Markdown(\"### Query Results\"))\n",
    "            display(df.head(10))  # Show top 10 rows\n",
    "        except Exception as e:\n",
    "            print(f\"Error: {e}\")\n",
    "\n",
    "run_sql_button.on_click(on_sql_run_clicked)\n",
    "\n",
    "# Display the full SQL UI\n",
    "display(widgets.VBox([sql_input, run_sql_button, sql_output]))\n"
   ]
  },
  {
   "cell_type": "code",
   "execution_count": null,
   "id": "2425efb5-bcad-47a6-82e4-305bb088b9e6",
   "metadata": {},
   "outputs": [],
   "source": []
  }
 ],
 "metadata": {
  "kernelspec": {
   "display_name": "Python 3 (ipykernel)",
   "language": "python",
   "name": "python3"
  },
  "language_info": {
   "codemirror_mode": {
    "name": "ipython",
    "version": 3
   },
   "file_extension": ".py",
   "mimetype": "text/x-python",
   "name": "python",
   "nbconvert_exporter": "python",
   "pygments_lexer": "ipython3",
   "version": "3.11.13"
  }
 },
 "nbformat": 4,
 "nbformat_minor": 5
}
