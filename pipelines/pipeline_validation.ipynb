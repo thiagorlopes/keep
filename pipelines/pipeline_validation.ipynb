{
 "cells": [
  {
   "cell_type": "markdown",
   "id": "e660cd32-a3b8-4859-a47a-fc0c9417d392",
   "metadata": {},
   "source": [
    "# End-to-End Pipeline Validation\n",
    "\n",
    "This notebook serves as a live, executable demonstration of the project's data pipelines. It will walk through the entire process, from cleaning the environment to ingesting data from the mock API, processing it through the bronze and silver layers, and validating the final, idempotent ledger.\n",
    "\n",
    "**Objective:** To provide a clear, step-by-step validation of the data flow and the idempotency of the pipeline architecture."
   ]
  },
  {
   "cell_type": "code",
   "execution_count": 12,
   "id": "0ef43b2c-87a4-47e3-9374-bf8792402b3f",
   "metadata": {},
   "outputs": [
    {
     "name": "stdout",
     "output_type": "stream",
     "text": [
      "Setup complete. Paths and helper function are defined.\n"
     ]
    }
   ],
   "source": [
    "import os\n",
    "import shutil\n",
    "import pandas as pd\n",
    "from deltalake import DeltaTable\n",
    "\n",
    "# Define the paths for our data lake directories\n",
    "BRONZE_PATH = 'data_lake/bronze'\n",
    "SILVER_PATH = 'data_lake/silver'\n",
    "LEDGER_PATH = 'data_lake/application_status_ledger'\n",
    "\n",
    "# Helper function to read and print a Delta table\n",
    "def read_delta_table(path, name):\n",
    "    \"\"\"Reads and prints the contents of a Delta table.\"\"\"\n",
    "    print(f\"--- Contents of {name} table ---\")\n",
    "    try:\n",
    "        df = DeltaTable(path).to_pandas()\n",
    "        print(df)\n",
    "        print(\"-\" * (len(name) + 24))\n",
    "        return df\n",
    "    except Exception as e:\n",
    "        print(f\"Could not read table: {e}\")\n",
    "        return None\n",
    "\n",
    "print(\"Setup complete. Paths and helper function are defined.\")"
   ]
  },
  {
   "cell_type": "markdown",
   "id": "dab94617-ad1d-48e8-94d7-2bf5a013db22",
   "metadata": {},
   "source": [
    "## Step 1: Clean the Environment\n",
    "\n",
    "Before we begin, we need to ensure a clean state by deleting any existing data from previous runs. This guarantees that we are testing the pipeline's initialization process from scratch."
   ]
  },
  {
   "cell_type": "code",
   "execution_count": 2,
   "id": "bf1c32cf-c5da-472d-b922-c402cc2cffbe",
   "metadata": {},
   "outputs": [
    {
     "name": "stdout",
     "output_type": "stream",
     "text": [
      "Cleaned directories: pipelines/data_lake/bronze, pipelines/data_lake/silver, pipelines/data_lake/application_status_ledger\n"
     ]
    }
   ],
   "source": [
    "# Use a shell command to remove the directories\n",
    "!rm -rf {BRONZE_PATH} {SILVER_PATH} {LEDGER_PATH}\n",
    "\n",
    "print(f\"Cleaned directories: {BRONZE_PATH}, {SILVER_PATH}, {LEDGER_PATH}\")"
   ]
  },
  {
   "cell_type": "markdown",
   "id": "ba41d692-394d-48b6-b223-f04d821adab6",
   "metadata": {},
   "source": [
    "## Step 2: Run the Ingestion Pipeline\n",
    "\n",
    "Now, we'll execute the ingestion pipeline. This script is responsible for:\n",
    "1.  Calling the mock API to fetch raw transaction data.\n",
    "2.  Combining the data from all accounts into a single DataFrame.\n",
    "3.  Writing the raw data to the **bronze** Delta table."
   ]
  },
  {
   "cell_type": "code",
   "execution_count": 8,
   "id": "4574d3f8-2955-4977-88f7-c2c6ae92a59a",
   "metadata": {},
   "outputs": [
    {
     "name": "stdout",
     "output_type": "stream",
     "text": [
      "Fetching data for account number: 010-30800-0095971396 (Id: 001_statement_a)\n",
      "Fetching data for account number: 010-30800-0095983938 (Id: 002_statement_b)\n",
      "Writing 1217 transactions to bronze Delta table at /Users/thiago.lopes/dev/nu/tmp/keep/pipelines/data_lake/bronze...\n",
      "Bronze ingestion complete.\n"
     ]
    }
   ],
   "source": [
    "# Run the ingestion script as a Python module\n",
    "!python -m ingest_statements"
   ]
  },
  {
   "cell_type": "markdown",
   "id": "6d1d93e5-b811-4ba1-8702-c17ea5b32f01",
   "metadata": {},
   "source": [
    "## Step 3: Run the Transformation Pipeline (First Run)\n",
    "\n",
    "This is the core of our ETL process. In this first run, the script will:\n",
    "1.  Read the raw data from the bronze table.\n",
    "2.  Perform data cleaning and standardization.\n",
    "3.  Since no silver table or ledger exists, it will **create** them and load the cleaned data."
   ]
  },
  {
   "cell_type": "code",
   "execution_count": 10,
   "id": "00100bf6-2515-48dd-935c-f591eb0c79a4",
   "metadata": {},
   "outputs": [
    {
     "name": "stdout",
     "output_type": "stream",
     "text": [
      "Read 1217 rows from the bronze layer.\n",
      "Merging 1217 cleaned rows into the silver Delta table...\n",
      "Silver table not found, creating new one.\n",
      "Silver layer merge complete.\n",
      "Updating scoring status ledger...\n",
      "Ledger not found, creating new one.\n",
      "New ledger created.\n"
     ]
    }
   ],
   "source": [
    "# Run the transformation script\n",
    "!python -m transform_statements"
   ]
  },
  {
   "cell_type": "code",
   "execution_count": 13,
   "id": "29d785d2-4869-4788-8d33-f030d512f5c1",
   "metadata": {},
   "outputs": [
    {
     "name": "stdout",
     "output_type": "stream",
     "text": [
      "--- Contents of Silver table ---\n",
      "     account_balance             account_name        account_number  \\\n",
      "0             2016.7  No Fee Chequing Account  010-30800-0095971396   \n",
      "1             2016.7  No Fee Chequing Account  010-30800-0095971396   \n",
      "2             2016.7  No Fee Chequing Account  010-30800-0095971396   \n",
      "3             2016.7  No Fee Chequing Account  010-30800-0095971396   \n",
      "4             2016.7  No Fee Chequing Account  010-30800-0095971396   \n",
      "...              ...                      ...                   ...   \n",
      "1212          418.52  No Fee Chequing Account  010-30800-0095983938   \n",
      "1213          418.52  No Fee Chequing Account  010-30800-0095983938   \n",
      "1214          418.52  No Fee Chequing Account  010-30800-0095983938   \n",
      "1215          418.52  No Fee Chequing Account  010-30800-0095983938   \n",
      "1216          418.52  No Fee Chequing Account  010-30800-0095983938   \n",
      "\n",
      "     account_type                               address   amount  balance  \\\n",
      "0       Operation  36 HOLKHAM AVE, ANCASTER, ON, L9K1P1   -45.00  1482.55   \n",
      "1       Operation  36 HOLKHAM AVE, ANCASTER, ON, L9K1P1  2155.88  1527.55   \n",
      "2       Operation  36 HOLKHAM AVE, ANCASTER, ON, L9K1P1 -2155.88  -628.33   \n",
      "3       Operation  36 HOLKHAM AVE, ANCASTER, ON, L9K1P1  -200.00  1527.55   \n",
      "4       Operation  36 HOLKHAM AVE, ANCASTER, ON, L9K1P1   -50.00  1727.55   \n",
      "...           ...                                   ...      ...      ...   \n",
      "1212    Operation  36 HOLKHAM AVE, ANCASTER, ON, L9K1P1 -1500.00   4048.4   \n",
      "1213    Operation  36 HOLKHAM AVE, ANCASTER, ON, L9K1P1   411.26   5548.4   \n",
      "1214    Operation  36 HOLKHAM AVE, ANCASTER, ON, L9K1P1  1038.24  5137.14   \n",
      "1215    Operation  36 HOLKHAM AVE, ANCASTER, ON, L9K1P1 -1000.00   4098.9   \n",
      "1216    Operation  36 HOLKHAM AVE, ANCASTER, ON, L9K1P1   416.77   5098.9   \n",
      "\n",
      "     category        date days_detected  ...  \\\n",
      "0       debit  2024-02-08                ...   \n",
      "1      credit  2024-02-08                ...   \n",
      "2       debit  2024-02-08                ...   \n",
      "3       debit  2024-02-07                ...   \n",
      "4       debit  2024-02-06                ...   \n",
      "...       ...         ...           ...  ...   \n",
      "1212    debit  2023-02-17                ...   \n",
      "1213   credit  2023-02-16                ...   \n",
      "1214   credit  2023-02-13                ...   \n",
      "1215    debit  2023-02-13                ...   \n",
      "1216   credit  2023-02-13                ...   \n",
      "\n",
      "                                  login_id    request_date_time  \\\n",
      "0     5eff116b-d0d9-4924-4b37-08dc29c779f9  2024-02-11 19:26:39   \n",
      "1     5eff116b-d0d9-4924-4b37-08dc29c779f9  2024-02-11 19:26:39   \n",
      "2     5eff116b-d0d9-4924-4b37-08dc29c779f9  2024-02-11 19:26:39   \n",
      "3     5eff116b-d0d9-4924-4b37-08dc29c779f9  2024-02-11 19:26:39   \n",
      "4     5eff116b-d0d9-4924-4b37-08dc29c779f9  2024-02-11 19:26:39   \n",
      "...                                    ...                  ...   \n",
      "1212  5eff116b-d0d9-4924-4b37-08dc29c779f9  2024-02-11 19:26:39   \n",
      "1213  5eff116b-d0d9-4924-4b37-08dc29c779f9  2024-02-11 19:26:39   \n",
      "1214  5eff116b-d0d9-4924-4b37-08dc29c779f9  2024-02-11 19:26:39   \n",
      "1215  5eff116b-d0d9-4924-4b37-08dc29c779f9  2024-02-11 19:26:39   \n",
      "1216  5eff116b-d0d9-4924-4b37-08dc29c779f9  2024-02-11 19:26:39   \n",
      "\n",
      "                                request_id            request_status  \\\n",
      "0     727DAE61-63E9-4121-801E-F11CA8FF32FD  Get Statements Completed   \n",
      "1     727DAE61-63E9-4121-801E-F11CA8FF32FD  Get Statements Completed   \n",
      "2     727DAE61-63E9-4121-801E-F11CA8FF32FD  Get Statements Completed   \n",
      "3     727DAE61-63E9-4121-801E-F11CA8FF32FD  Get Statements Completed   \n",
      "4     727DAE61-63E9-4121-801E-F11CA8FF32FD  Get Statements Completed   \n",
      "...                                    ...                       ...   \n",
      "1212  727DAE61-63E9-4121-801E-F11CA8FF32FD  Get Statements Completed   \n",
      "1213  727DAE61-63E9-4121-801E-F11CA8FF32FD  Get Statements Completed   \n",
      "1214  727DAE61-63E9-4121-801E-F11CA8FF32FD  Get Statements Completed   \n",
      "1215  727DAE61-63E9-4121-801E-F11CA8FF32FD  Get Statements Completed   \n",
      "1216  727DAE61-63E9-4121-801E-F11CA8FF32FD  Get Statements Completed   \n",
      "\n",
      "     subcategory                                                tag    type  \\\n",
      "0                 email=chateaushadyloop@gmail.com,businessId=cl...   debit   \n",
      "1                 email=chateaushadyloop@gmail.com,businessId=cl...  credit   \n",
      "2                 email=chateaushadyloop@gmail.com,businessId=cl...   debit   \n",
      "3                 email=chateaushadyloop@gmail.com,businessId=cl...   debit   \n",
      "4                 email=chateaushadyloop@gmail.com,businessId=cl...   debit   \n",
      "...          ...                                                ...     ...   \n",
      "1212              email=chateaushadyloop@gmail.com,businessId=cl...   debit   \n",
      "1213              email=chateaushadyloop@gmail.com,businessId=cl...  credit   \n",
      "1214              email=chateaushadyloop@gmail.com,businessId=cl...  credit   \n",
      "1215              email=chateaushadyloop@gmail.com,businessId=cl...   debit   \n",
      "1216              email=chateaushadyloop@gmail.com,businessId=cl...  credit   \n",
      "\n",
      "           username withdrawals       account_id  \n",
      "0     Joel Schaubel          45  001_statement_a  \n",
      "1     Joel Schaubel              001_statement_a  \n",
      "2     Joel Schaubel     2155.88  001_statement_a  \n",
      "3     Joel Schaubel         200  001_statement_a  \n",
      "4     Joel Schaubel          50  001_statement_a  \n",
      "...             ...         ...              ...  \n",
      "1212  Joel Schaubel        1500  002_statement_b  \n",
      "1213  Joel Schaubel              002_statement_b  \n",
      "1214  Joel Schaubel              002_statement_b  \n",
      "1215  Joel Schaubel        1000  002_statement_b  \n",
      "1216  Joel Schaubel              002_statement_b  \n",
      "\n",
      "[1217 rows x 25 columns]\n",
      "------------------------------\n",
      "--- Contents of Application Status Ledger table ---\n",
      "                    email                            request_id   status  \\\n",
      "0  JOELSCHAUBEL@GMAIL.COM  727DAE61-63E9-4121-801E-F11CA8FF32FD  PENDING   \n",
      "\n",
      "   __index_level_0__  \n",
      "0                  0  \n",
      "-------------------------------------------------\n"
     ]
    }
   ],
   "source": [
    "# Read the contents of the newly created tables\n",
    "silver_df_run1 = read_delta_table(SILVER_PATH, \"Silver\")\n",
    "ledger_df_run1 = read_delta_table(LEDGER_PATH, \"Application Status Ledger\")"
   ]
  },
  {
   "cell_type": "markdown",
   "id": "6dcfad65-de0f-430f-ae8c-c1f466bfb4cd",
   "metadata": {},
   "source": [
    "## Step 5: Test for Idempotency (Second Run)\n",
    "\n",
    "This is the most critical test. We will run the exact same transformation pipeline again.\n",
    "\n",
    "A non-idempotent pipeline would either fail or create duplicate records. Our Delta Lake architecture, however, should handle this gracefully. The `MERGE` operation will check for existing records and, finding that they are already present, will not insert any new data.\n",
    "\n",
    "**Expected Outcome:** The pipeline will run successfully, but the contents and size of the silver table and the ledger should remain identical."
   ]
  },
  {
   "cell_type": "code",
   "execution_count": 7,
   "id": "58be3761-2de1-4994-a104-8df22d228d99",
   "metadata": {},
   "outputs": [
    {
     "name": "stdout",
     "output_type": "stream",
     "text": [
      "Read 1217 rows from the bronze layer.\n",
      "Merging 1217 cleaned rows into the silver Delta table...\n",
      "Silver layer merge complete.\n",
      "Updating scoring status ledger...\n",
      "Ledger merge complete. 1 records processed.\n"
     ]
    }
   ],
   "source": [
    "# Run the transformation script for a second time\n",
    "!python -m pipelines.transform_statements"
   ]
  },
  {
   "cell_type": "markdown",
   "id": "9cad24e6-0bd0-4703-a906-aa90bc012c74",
   "metadata": {},
   "source": [
    "## Step 6: Final Validation\n",
    "\n",
    "Now, we will read the tables again and compare their state to after the first run. If the number of rows is unchanged, we have successfully proven that our pipeline is idempotent."
   ]
  },
  {
   "cell_type": "code",
   "execution_count": 8,
   "id": "24b552e4-f2ab-4865-b0e0-9275bc5f0ae0",
   "metadata": {},
   "outputs": [
    {
     "name": "stdout",
     "output_type": "stream",
     "text": [
      "Waiting a moment for file system to update...\n",
      "--- Contents of Silver (after 2nd run) table ---\n",
      "     account_balance             account_name        account_number  \\\n",
      "0             2016.7  No Fee Chequing Account  010-30800-0095971396   \n",
      "1             2016.7  No Fee Chequing Account  010-30800-0095971396   \n",
      "2             2016.7  No Fee Chequing Account  010-30800-0095971396   \n",
      "3             2016.7  No Fee Chequing Account  010-30800-0095971396   \n",
      "4             2016.7  No Fee Chequing Account  010-30800-0095971396   \n",
      "...              ...                      ...                   ...   \n",
      "1212          418.52  No Fee Chequing Account  010-30800-0095983938   \n",
      "1213          418.52  No Fee Chequing Account  010-30800-0095983938   \n",
      "1214          418.52  No Fee Chequing Account  010-30800-0095983938   \n",
      "1215          418.52  No Fee Chequing Account  010-30800-0095983938   \n",
      "1216          418.52  No Fee Chequing Account  010-30800-0095983938   \n",
      "\n",
      "     account_type                               address   amount  balance  \\\n",
      "0       Operation  36 HOLKHAM AVE, ANCASTER, ON, L9K1P1   -45.00  1482.55   \n",
      "1       Operation  36 HOLKHAM AVE, ANCASTER, ON, L9K1P1  2155.88  1527.55   \n",
      "2       Operation  36 HOLKHAM AVE, ANCASTER, ON, L9K1P1 -2155.88  -628.33   \n",
      "3       Operation  36 HOLKHAM AVE, ANCASTER, ON, L9K1P1  -200.00  1527.55   \n",
      "4       Operation  36 HOLKHAM AVE, ANCASTER, ON, L9K1P1   -50.00  1727.55   \n",
      "...           ...                                   ...      ...      ...   \n",
      "1212    Operation  36 HOLKHAM AVE, ANCASTER, ON, L9K1P1 -1500.00   4048.4   \n",
      "1213    Operation  36 HOLKHAM AVE, ANCASTER, ON, L9K1P1   411.26   5548.4   \n",
      "1214    Operation  36 HOLKHAM AVE, ANCASTER, ON, L9K1P1  1038.24  5137.14   \n",
      "1215    Operation  36 HOLKHAM AVE, ANCASTER, ON, L9K1P1 -1000.00   4098.9   \n",
      "1216    Operation  36 HOLKHAM AVE, ANCASTER, ON, L9K1P1   416.77   5098.9   \n",
      "\n",
      "     category        date days_detected  ...  \\\n",
      "0       debit  2024-02-08                ...   \n",
      "1      credit  2024-02-08                ...   \n",
      "2       debit  2024-02-08                ...   \n",
      "3       debit  2024-02-07                ...   \n",
      "4       debit  2024-02-06                ...   \n",
      "...       ...         ...           ...  ...   \n",
      "1212    debit  2023-02-17                ...   \n",
      "1213   credit  2023-02-16                ...   \n",
      "1214   credit  2023-02-13                ...   \n",
      "1215    debit  2023-02-13                ...   \n",
      "1216   credit  2023-02-13                ...   \n",
      "\n",
      "                                  login_id    request_date_time  \\\n",
      "0     5eff116b-d0d9-4924-4b37-08dc29c779f9  2024-02-11 19:26:39   \n",
      "1     5eff116b-d0d9-4924-4b37-08dc29c779f9  2024-02-11 19:26:39   \n",
      "2     5eff116b-d0d9-4924-4b37-08dc29c779f9  2024-02-11 19:26:39   \n",
      "3     5eff116b-d0d9-4924-4b37-08dc29c779f9  2024-02-11 19:26:39   \n",
      "4     5eff116b-d0d9-4924-4b37-08dc29c779f9  2024-02-11 19:26:39   \n",
      "...                                    ...                  ...   \n",
      "1212  5eff116b-d0d9-4924-4b37-08dc29c779f9  2024-02-11 19:26:39   \n",
      "1213  5eff116b-d0d9-4924-4b37-08dc29c779f9  2024-02-11 19:26:39   \n",
      "1214  5eff116b-d0d9-4924-4b37-08dc29c779f9  2024-02-11 19:26:39   \n",
      "1215  5eff116b-d0d9-4924-4b37-08dc29c779f9  2024-02-11 19:26:39   \n",
      "1216  5eff116b-d0d9-4924-4b37-08dc29c779f9  2024-02-11 19:26:39   \n",
      "\n",
      "                                request_id            request_status  \\\n",
      "0     727DAE61-63E9-4121-801E-F11CA8FF32FD  Get Statements Completed   \n",
      "1     727DAE61-63E9-4121-801E-F11CA8FF32FD  Get Statements Completed   \n",
      "2     727DAE61-63E9-4121-801E-F11CA8FF32FD  Get Statements Completed   \n",
      "3     727DAE61-63E9-4121-801E-F11CA8FF32FD  Get Statements Completed   \n",
      "4     727DAE61-63E9-4121-801E-F11CA8FF32FD  Get Statements Completed   \n",
      "...                                    ...                       ...   \n",
      "1212  727DAE61-63E9-4121-801E-F11CA8FF32FD  Get Statements Completed   \n",
      "1213  727DAE61-63E9-4121-801E-F11CA8FF32FD  Get Statements Completed   \n",
      "1214  727DAE61-63E9-4121-801E-F11CA8FF32FD  Get Statements Completed   \n",
      "1215  727DAE61-63E9-4121-801E-F11CA8FF32FD  Get Statements Completed   \n",
      "1216  727DAE61-63E9-4121-801E-F11CA8FF32FD  Get Statements Completed   \n",
      "\n",
      "     subcategory                                                tag    type  \\\n",
      "0                 email=chateaushadyloop@gmail.com,businessId=cl...   debit   \n",
      "1                 email=chateaushadyloop@gmail.com,businessId=cl...  credit   \n",
      "2                 email=chateaushadyloop@gmail.com,businessId=cl...   debit   \n",
      "3                 email=chateaushadyloop@gmail.com,businessId=cl...   debit   \n",
      "4                 email=chateaushadyloop@gmail.com,businessId=cl...   debit   \n",
      "...          ...                                                ...     ...   \n",
      "1212              email=chateaushadyloop@gmail.com,businessId=cl...   debit   \n",
      "1213              email=chateaushadyloop@gmail.com,businessId=cl...  credit   \n",
      "1214              email=chateaushadyloop@gmail.com,businessId=cl...  credit   \n",
      "1215              email=chateaushadyloop@gmail.com,businessId=cl...   debit   \n",
      "1216              email=chateaushadyloop@gmail.com,businessId=cl...  credit   \n",
      "\n",
      "           username withdrawals       account_id  \n",
      "0     Joel Schaubel          45  001_statement_a  \n",
      "1     Joel Schaubel              001_statement_a  \n",
      "2     Joel Schaubel     2155.88  001_statement_a  \n",
      "3     Joel Schaubel         200  001_statement_a  \n",
      "4     Joel Schaubel          50  001_statement_a  \n",
      "...             ...         ...              ...  \n",
      "1212  Joel Schaubel        1500  002_statement_b  \n",
      "1213  Joel Schaubel              002_statement_b  \n",
      "1214  Joel Schaubel              002_statement_b  \n",
      "1215  Joel Schaubel        1000  002_statement_b  \n",
      "1216  Joel Schaubel              002_statement_b  \n",
      "\n",
      "[1217 rows x 25 columns]\n",
      "----------------------------------------------\n",
      "--- Contents of Application Status Ledger (after 2nd run) table ---\n",
      "                    email                            request_id   status  \\\n",
      "0  JOELSCHAUBEL@GMAIL.COM  727DAE61-63E9-4121-801E-F11CA8FF32FD  PENDING   \n",
      "\n",
      "   __index_level_0__  \n",
      "0                  0  \n",
      "-----------------------------------------------------------------\n",
      "\n",
      "--- Validation Results ---\n",
      "✅ Silver Table: Row count is unchanged. Idempotency test PASSED.\n",
      "✅ Ledger: Row count is unchanged. Idempotency test PASSED.\n",
      "--------------------------\n"
     ]
    }
   ],
   "source": [
    "import time\n",
    "\n",
    "print(\"Waiting a moment for file system to update...\")\n",
    "time.sleep(1) # Small delay to ensure file modification times are updated\n",
    "\n",
    "silver_df_run2 = read_delta_table(SILVER_PATH, \"Silver (after 2nd run)\")\n",
    "ledger_df_run2 = read_delta_table(LEDGER_PATH, \"Application Status Ledger (after 2nd run)\")\n",
    "\n",
    "# Perform the validation checks\n",
    "print(\"\\n--- Validation Results ---\")\n",
    "if len(silver_df_run1) == len(silver_df_run2):\n",
    "    print(\"✅ Silver Table: Row count is unchanged. Idempotency test PASSED.\")\n",
    "else:\n",
    "    print(\"❌ Silver Table: Row count has changed. Idempotency test FAILED.\")\n",
    "\n",
    "if len(ledger_df_run1) == len(ledger_df_run2):\n",
    "    print(\"✅ Ledger: Row count is unchanged. Idempotency test PASSED.\")\n",
    "else:\n",
    "    print(\"❌ Ledger: Row count has changed. Idempotency test FAILED.\")\n",
    "print(\"-\" * 26)"
   ]
  },
  {
   "cell_type": "code",
   "execution_count": null,
   "id": "474a6d2c-6313-45f5-8145-9136de75a1e2",
   "metadata": {},
   "outputs": [],
   "source": []
  }
 ],
 "metadata": {
  "kernelspec": {
   "display_name": "Python 3 (ipykernel)",
   "language": "python",
   "name": "python3"
  },
  "language_info": {
   "codemirror_mode": {
    "name": "ipython",
    "version": 3
   },
   "file_extension": ".py",
   "mimetype": "text/x-python",
   "name": "python",
   "nbconvert_exporter": "python",
   "pygments_lexer": "ipython3",
   "version": "3.12.6"
  }
 },
 "nbformat": 4,
 "nbformat_minor": 5
}
